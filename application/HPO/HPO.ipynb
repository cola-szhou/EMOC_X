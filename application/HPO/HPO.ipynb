{
 "cells": [
  {
   "cell_type": "code",
   "execution_count": 1,
   "metadata": {},
   "outputs": [],
   "source": [
    "import openml\n",
    "import xgboost as xgb\n",
    "from sklearn.model_selection import train_test_split\n",
    "from sklearn.metrics import mean_absolute_error, mean_squared_error\n",
    "from sklearn.preprocessing import LabelEncoder\n",
    "import pandas as pd\n",
    "\n",
    "from lightgbm import LGBMRegressor"
   ]
  },
  {
   "cell_type": "code",
   "execution_count": 2,
   "metadata": {},
   "outputs": [
    {
     "name": "stdout",
     "output_type": "stream",
     "text": [
      "Mean Squared Error: 912.1697033998964\n"
     ]
    },
    {
     "name": "stderr",
     "output_type": "stream",
     "text": [
      "/nfs/share/shashazhou/anaconda3/envs/emoc/lib/python3.9/site-packages/openml/datasets/functions.py:438: FutureWarning: Starting from Version 0.15 `download_data`, `download_qualities`, and `download_features_meta_data` will all be ``False`` instead of ``True`` by default to enable lazy loading. To disable this message until version 0.15 explicitly set `download_data`, `download_qualities`, and `download_features_meta_data` to a bool while calling `get_dataset`.\n",
      "  warnings.warn(\n"
     ]
    }
   ],
   "source": [
    "dataset = openml.datasets.get_dataset(44140)\n",
    "x, y, categorical_indicator, attribute_names = dataset.get_data(target=dataset.default_target_attribute)\n",
    "encoder = LabelEncoder()\n",
    "y = encoder.fit_transform(y)\n",
    "y = pd.Series(y)\n",
    "x_train, x_test, y_train, y_test = train_test_split(x, y, test_size=0.2, random_state=1)\n",
    "\n",
    "\n",
    "model = LGBMRegressor()\n",
    "\n",
    "model.set_params(\n",
    "            boosting_type = 'gbdt',\n",
    "            learning_rate = 0.05,\n",
    "            num_leaves = 10,\n",
    "            n_estimators = 50,\n",
    "            max_depth = 5,\n",
    "            n_jobs = 16,\n",
    "            verbose = -1)\n",
    "            \n",
    "model.fit(x_train,y_train)\n",
    "pred_test = model.predict(x_test)\n",
    "\n",
    "mse = mean_squared_error(y_test, pred_test, squared = False)\n",
    "print(f\"Mean Squared Error: {mse}\")"
   ]
  },
  {
   "cell_type": "markdown",
   "metadata": {},
   "source": [
    "## Create HPO Problem"
   ]
  },
  {
   "cell_type": "code",
   "execution_count": 3,
   "metadata": {},
   "outputs": [],
   "source": [
    "import sys\n",
    "sys.path.append('../../..')\n",
    "\n",
    "from emoc.problem import Problem\n",
    "import random\n",
    "import time\n",
    "\n",
    "class HPO_XGB(Problem):\n",
    "    def __init__(self, dataset_id=44140, dec_num=5, obj_num_=2):\n",
    "        super().__init__(dec_num, obj_num_)\n",
    "        x, y, categorical_indicator, attribute_names = dataset.get_data(target=dataset.default_target_attribute)\n",
    "        encoder = LabelEncoder()\n",
    "        y = encoder.fit_transform(y)\n",
    "        y = pd.Series(y)\n",
    "        self.x_train, self.x_test, self.y_train, self.y_test = train_test_split(x, y, test_size=0.2, random_state=1)\n",
    "        self.model = LGBMRegressor()\n",
    "\n",
    "        self.space = {\n",
    "            'boosting_type': ['gbdt', 'dart'],\n",
    "            'learning_rate': (1e-10, 0.5),\n",
    "            'num_leaves': [10, 20, 30, 40, 50, 100],\n",
    "            'n_estimators': [50, 75, 100, 150, 200, 250, 300],\n",
    "            'max_depth': [5, 6, 7, 8, 9, 10, 11, 12, 13, 14, 15, 17, 20, 25, 30, None],\n",
    "        }\n",
    "        self.lower_bound_ = []\n",
    "        self.upper_bound_ = []\n",
    "        for _, value in self.space.items():\n",
    "            if isinstance(value, tuple):\n",
    "                self.lower_bound_.append(value[0])\n",
    "                self.upper_bound_.append(value[1])\n",
    "            elif isinstance(value, list):\n",
    "                self.lower_bound_.append(0)\n",
    "                self.upper_bound_.append(len(value) - 1)\n",
    "            else:\n",
    "                raise Exception(\"Invalid type for search space!\")\n",
    "        \n",
    "        self.encoding_ = self.GetType(\"MIXED\")\n",
    "        self.name = \"HPO_LGBM\"\n",
    "        \n",
    "        \n",
    "    def CalObj(self, ind):\n",
    "        self.model.set_params(\n",
    "            boosting_type = self.space['boosting_type'][int(ind.dec_[0])],\n",
    "            learning_rate = ind.dec_[1],\n",
    "            num_leaves = self.space['num_leaves'][int(ind.dec_[2])],\n",
    "            n_estimators = self.space['n_estimators'][int(ind.dec_[3])],\n",
    "            max_depth = self.space['max_depth'][int(ind.dec_[4])],\n",
    "            verbose = -1,\n",
    "        )\n",
    "        start = time.time()\n",
    "        self.model.fit(self.x_train, self.y_train)\n",
    "        runtime = time.time() - start\n",
    "        predictions = model.predict(self.x_test)\n",
    "        error = mean_absolute_error(self.y_test, predictions)\n",
    "        ind.obj_[0] = error\n",
    "        ind.obj_[1] = runtime\n",
    "    \n",
    "    def check(self, ind): # check if the individual is valid\n",
    "        pass"
   ]
  },
  {
   "cell_type": "code",
   "execution_count": 4,
   "metadata": {},
   "outputs": [
    {
     "name": "stdout",
     "output_type": "stream",
     "text": [
      "<class 'tuple'>\n",
      "<class 'list'>\n",
      "<class 'list'>\n",
      "<class 'list'>\n",
      "<class 'list'>\n",
      "[0, 1e-10, 0, 0, 0] [1, 0.5, 5, 6, 15]\n"
     ]
    }
   ],
   "source": [
    "hpo = HPO_XGB()\n",
    "print(type(hpo.space['learning_rate']))\n",
    "print(type(hpo.space['max_depth']))\n",
    "print(type(hpo.space['boosting_type']))\n",
    "print(type(hpo.space['n_estimators']))\n",
    "print(type(hpo.space['num_leaves']))\n",
    "\n",
    "\n",
    "print(hpo.lower_bound_, hpo.upper_bound_)"
   ]
  },
  {
   "cell_type": "code",
   "execution_count": 5,
   "metadata": {},
   "outputs": [
    {
     "name": "stdout",
     "output_type": "stream",
     "text": [
      "<class 'float'>\n",
      "[610.366, 0.322645]\n"
     ]
    }
   ],
   "source": [
    "from emoc.core import Individual\n",
    "\n",
    "ind = Individual(5,2)\n",
    "ind.dec_ = [0, 0.1, 0, 0, 0]\n",
    "hpo = HPO_XGB()\n",
    "\n",
    "print(type(ind.dec_[0]))\n",
    "\n",
    "hpo.CalObj(ind)\n",
    "print(ind.obj_)\n"
   ]
  },
  {
   "cell_type": "code",
   "execution_count": 6,
   "metadata": {},
   "outputs": [],
   "source": [
    "from emoc.operator import Sampling\n",
    "\n",
    "class sampling_HPO_XGB(Sampling):\n",
    "    def sample_ind(self, ind, problem):\n",
    "        for i, (_, value) in enumerate(problem.space.items()):\n",
    "            if isinstance(value, tuple):\n",
    "                ind.dec_[i] = random.uniform(problem.lower_bound_[i], problem.upper_bound_[i])\n",
    "            elif isinstance(value, list):\n",
    "                ind.dec_[i] = random.randint(problem.lower_bound_[i], problem.upper_bound_[i])\n",
    "            else:\n",
    "                raise Exception(\"Invalid type for search space!\")\n",
    "\n",
    "# class sampling_HPO_XGB(Sampling):\n",
    "#     def __init__(self) -> None:\n",
    "#         pass\n",
    "    \n",
    "#     def __call__(self, population, pop_num, problem):\n",
    "#         for i in range(pop_num):\n",
    "#             self.sample_ind(population[i], problem)\n",
    "        \n",
    "#     def sample_ind(self, ind, problem):\n",
    "#         for i in range(problem.dec_num_):\n",
    "#             ind.dec_[i] = random.randint(problem.lower_bound_[i], problem.upper_bound_[i])"
   ]
  },
  {
   "cell_type": "code",
   "execution_count": 7,
   "metadata": {},
   "outputs": [],
   "source": [
    "from emoc.operator import Mutation\n",
    "\n",
    "class mutation_HPO_XGB(Mutation):\n",
    "    def mutation_ind(self, ind, problem):\n",
    "        for i, (_, value) in enumerate(problem.space.items()):\n",
    "            if isinstance(value, tuple):\n",
    "                ind.dec_[i] = random.uniform(problem.lower_bound_[i], problem.upper_bound_[i])\n",
    "            elif isinstance(value, list):\n",
    "                ind.dec_[i] = random.randint(problem.lower_bound_[i], problem.upper_bound_[i])\n",
    "            else:\n",
    "                raise Exception(\"Invalid type for search space!\")\n",
    "\n",
    "# class mutation_HPO_XGB(Mutation):\n",
    "#     def __init__(self, mu_pro=None,):\n",
    "#         self.pro = mu_pro\n",
    "    \n",
    "#     def __call__(self, population, pop_num, problem):\n",
    "#         if self.pro == None:\n",
    "#             self.pro = 1 / problem.dec_num_\n",
    "#         for i in range(pop_num):\n",
    "#             self.mutation_ind(population[i], problem)\n",
    "        \n",
    "#     def mutation_ind(self, ind, problem):\n",
    "#         for i, (_, value) in enumerate(problem.space.items()):\n",
    "#             if isinstance(value, tuple):\n",
    "#                 ind.dec_[i] = random.uniform(problem.lower_bound_[i], problem.upper_bound_[i])\n",
    "#             elif isinstance(value, list):\n",
    "#                 ind.dec_[i] = random.randint(problem.lower_bound_[i], problem.upper_bound_[i])\n",
    "#             else:\n",
    "#                 raise Exception(\"Invalid type for search space!\")"
   ]
  },
  {
   "cell_type": "code",
   "execution_count": 8,
   "metadata": {},
   "outputs": [],
   "source": [
    "from emoc.operator import Crossover\n",
    "class crossover_HPO_XGB(Crossover):\n",
    "    def cross_ind(self, parent1, parent2, offspring1, offspring2, problem):\n",
    "        if random.random() > self.pro:\n",
    "            offspring1.dec_ = parent1.dec_\n",
    "            offspring2.dec_ = parent2.dec_\n",
    "        else:\n",
    "            for i in range(problem.dec_num_):\n",
    "                if random.random() < 0.5:\n",
    "                    offspring1.dec_[i] = parent1.dec_[i]\n",
    "                    offspring2.dec_[i] = parent2.dec_[i]\n",
    "                else:\n",
    "                    offspring1.dec_[i] = parent2.dec_[i]\n",
    "                    offspring2.dec_[i] = parent1.dec_[i]\n",
    "\n",
    "# class crossover_HPO_XGB(Crossover):\n",
    "#     def __init__(self, cross_pro=0.9):\n",
    "#         self.pro = cross_pro\n",
    "    \n",
    "#     def __call__(self, parent_pop, offspring_pop, pop_num, problem, selection_operator, **kwargs):\n",
    "#         index1 = list(range(pop_num))\n",
    "#         random.shuffle(index1)\n",
    "#         index2 = list(range(pop_num))\n",
    "#         random.shuffle(index2)\n",
    "#         for i in range(pop_num // 2):\n",
    "#             parent1 = selection_operator(parent_pop[index1[2 * i]], parent_pop[index1[2 * i + 1]])\n",
    "#             parent2 = selection_operator(parent_pop[index2[2 * i]], parent_pop[index2[2 * i + 1]])\n",
    "#             self.cross_ind(parent1, parent2, offspring_pop[2 * i], offspring_pop[2 * i + 1], problem)\n",
    "            \n",
    "#     def cross_ind(self, parent1, parent2, offspring1, offspring2, problem):\n",
    "#         if random.random() > self.pro:\n",
    "#             offspring1.dec_ = parent1.dec_\n",
    "#             offspring2.dec_ = parent2.dec_\n",
    "#         else:\n",
    "#             for i in range(problem.dec_num_):\n",
    "#                 if random.random() < 0.5:\n",
    "#                     offspring1.dec_[i] = parent1.dec_[i]\n",
    "#                     offspring2.dec_[i] = parent2.dec_[i]\n",
    "#                 else:\n",
    "#                     offspring1.dec_[i] = parent2.dec_[i]\n",
    "#                     offspring2.dec_[i] = parent1.dec_[i]"
   ]
  },
  {
   "cell_type": "code",
   "execution_count": 9,
   "metadata": {},
   "outputs": [
    {
     "name": "stdout",
     "output_type": "stream",
     "text": [
      "Error: File emoc/pf_data/hpo_lgbm/hpo_lgbm_2D.pf not found or could not be opened!\n"
     ]
    }
   ],
   "source": [
    "from emoc.algorithm import NSGA2Framework\n",
    "from emoc.core import EMOC_Manager\n",
    "\n",
    "my_problem = HPO_XGB()\n",
    "my_Algorithm = NSGA2Framework(\n",
    "    sampling=sampling_HPO_XGB(),\n",
    "    mutation=mutation_HPO_XGB(),\n",
    "    crossover=crossover_HPO_XGB()\n",
    ")\n",
    "emoc = EMOC_Manager(population_num=30, max_evaluation=150)\n",
    "emoc.optimize(algorithm=my_Algorithm, problem=my_problem, metrics=[], output_interval = 1)"
   ]
  },
  {
   "cell_type": "code",
   "execution_count": 10,
   "metadata": {},
   "outputs": [
    {
     "name": "stdout",
     "output_type": "stream",
     "text": [
      "5\n",
      "30\n",
      "[0, 0.302278, 2, 2, 4] [610.366, 0.130671]\n"
     ]
    }
   ],
   "source": [
    "print(len(emoc.global_[0].record_))\n",
    "print(len(emoc.global_[0].record_[0].pop_))\n",
    "print(emoc.global_[0].record_[0].pop_[2].dec_, emoc.global_[0].record_[0].pop_[2].obj_)"
   ]
  }
 ],
 "metadata": {
  "kernelspec": {
   "display_name": "pytorch",
   "language": "python",
   "name": "python3"
  },
  "language_info": {
   "codemirror_mode": {
    "name": "ipython",
    "version": 3
   },
   "file_extension": ".py",
   "mimetype": "text/x-python",
   "name": "python",
   "nbconvert_exporter": "python",
   "pygments_lexer": "ipython3",
   "version": "3.9.18"
  }
 },
 "nbformat": 4,
 "nbformat_minor": 2
}
